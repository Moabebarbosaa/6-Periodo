{
 "cells": [
  {
   "cell_type": "code",
   "execution_count": 5,
   "metadata": {},
   "outputs": [],
   "source": [
    "import numpy as np\n",
    "import matplotlib.pyplot as plt\n",
    "import scipy.optimize as opt\n",
    "import time"
   ]
  },
  {
   "cell_type": "code",
   "execution_count": 6,
   "metadata": {},
   "outputs": [],
   "source": [
    "def pontoFixo(funcao, xi, tolerancia): return opt.fixed_point(funcao, xi, maxiter=200, xtol = tolerancia)"
   ]
  },
  {
   "cell_type": "code",
   "execution_count": 7,
   "metadata": {},
   "outputs": [],
   "source": [
    "def newtonRapson(f1, f2, xi, maxit): return opt.root_scalar(f1, fprime=f2, x0=xi, method='newton', maxiter=maxit)"
   ]
  },
  {
   "cell_type": "code",
   "execution_count": 8,
   "metadata": {},
   "outputs": [],
   "source": [
    "def bissec(f, xl, xu, tolerancia, maxit): return opt.root_scalar(f,method='bisect',bracket=[xl,xu], rtol = tolerancia, maxiter=maxit)"
   ]
  },
  {
   "cell_type": "code",
   "execution_count": 9,
   "metadata": {},
   "outputs": [],
   "source": [
    "def secant(f, xu, xl , maxit): return opt.root_scalar(f,method='secant',x0=xl, x1=xu, maxiter=maxit)"
   ]
  },
  {
   "cell_type": "markdown",
   "metadata": {},
   "source": [
    "# 1."
   ]
  },
  {
   "cell_type": "markdown",
   "metadata": {},
   "source": [
    "### a)"
   ]
  },
  {
   "cell_type": "code",
   "execution_count": 10,
   "metadata": {},
   "outputs": [
    {
     "data": {
      "text/plain": [
       "[<matplotlib.lines.Line2D at 0x203e3677b80>]"
      ]
     },
     "execution_count": 10,
     "metadata": {},
     "output_type": "execute_result"
    },
    {
     "data": {
      "image/png": "[encoded data removed]",
      "text/plain": [
       "<Figure size 432x288 with 1 Axes>"
      ]
     },
     "metadata": {
      "needs_background": "light"
     },
     "output_type": "display_data"
    }
   ],
   "source": [
    "def f(x): return -0.5*x**2 + 2.5*x + 4.5\n",
    "\n",
    "x = np.linspace(-2, 7, 1000)\n",
    "plt.plot(x, f(x))"
   ]
  },
  {
   "cell_type": "markdown",
   "metadata": {},
   "source": [
    "### b)"
   ]
  },
  {
   "cell_type": "code",
   "execution_count": 11,
   "metadata": {},
   "outputs": [
    {
     "name": "stdout",
     "output_type": "stream",
     "text": [
      "\n",
      "Valor de x1: -1.405124837953327\n",
      "Valor de x2: 6.405124837953327\n"
     ]
    }
   ],
   "source": [
    "def raizes(a, b, c):\n",
    "    D = (b**2 - 4*a*c)\n",
    "    x1 = (-b + D**(1/2)) / (2*a)\n",
    "    x2 = (-b - D**(1/2)) / (2*a)\n",
    "\n",
    "    print('\\nValor de x1: {0}'.format(x1))\n",
    "    print('Valor de x2: {0}'.format(x2))\n",
    "raizes(-0.5, 2.5, 4.5)"
   ]
  },
  {
   "cell_type": "markdown",
   "metadata": {},
   "source": [
    "### c)"
   ]
  },
  {
   "cell_type": "code",
   "execution_count": 12,
   "metadata": {},
   "outputs": [],
   "source": [
    "def bissecaoImplementacao(f,a,b,prec):\n",
    "    x = 6.405124837953327\n",
    "    m = (a+b)/2\n",
    "    print('Raiz:', m)\n",
    "    erro = (abs(x-m)/x)*100\n",
    "    print(\"Erro:\", \"%.2f\" % erro + '%')    \n",
    "    print()\n",
    "    if abs(b - a) < prec: return m\n",
    "    if f(m) == 0: return m\n",
    "    if f(m)*f(a) < 0: return bissecaoImplementacao(f,a,m,prec)\n",
    "    else: return bissecaoImplementacao(f,m,b,prec)"
   ]
  },
  {
   "cell_type": "code",
   "execution_count": 13,
   "metadata": {
    "scrolled": false
   },
   "outputs": [
    {
     "name": "stdout",
     "output_type": "stream",
     "text": [
      "Raiz: 7.5\n",
      "Erro: 17.09%\n",
      "\n",
      "Raiz: 6.25\n",
      "Erro: 2.42%\n",
      "\n",
      "Raiz: 6.875\n",
      "Erro: 7.34%\n",
      "\n",
      "6.875\n"
     ]
    }
   ],
   "source": [
    "print(bissecaoImplementacao(f, 5, 10, 1.5))"
   ]
  },
  {
   "cell_type": "markdown",
   "metadata": {},
   "source": [
    "# 2."
   ]
  },
  {
   "cell_type": "code",
   "execution_count": 14,
   "metadata": {},
   "outputs": [],
   "source": [
    "def f(x):\n",
    "    return -2*x**6 - 1.5*x**4 + 10*x + 20\n",
    "def f1(x):\n",
    "    return -12*x**5 - 6*x**3 + 10"
   ]
  },
  {
   "cell_type": "code",
   "execution_count": 15,
   "metadata": {},
   "outputs": [
    {
     "data": {
      "text/plain": [
       "      converged: True\n",
       "           flag: 'converged'\n",
       " function_calls: 7\n",
       "     iterations: 5\n",
       "           root: 0.84375"
      ]
     },
     "execution_count": 15,
     "metadata": {},
     "output_type": "execute_result"
    }
   ],
   "source": [
    "bissec(f1, 0, 1, 0.05, 100)"
   ]
  },
  {
   "cell_type": "markdown",
   "metadata": {},
   "source": [
    "# 3."
   ]
  },
  {
   "cell_type": "code",
   "execution_count": 16,
   "metadata": {},
   "outputs": [],
   "source": [
    "def falsaPosicao(f, xl, xu, stop ):\n",
    "    \n",
    "    it = 0\n",
    "    \n",
    "    while(True):\n",
    "        \n",
    "        xr = xu - ( f(xu)*(xl - xu)/ (f(xl) - f(xu)) )\n",
    "        erro = abs( (xr-xu)/xr*100 )\n",
    "        it += 1\n",
    "        \n",
    "        if erro <= stop or it == 200:\n",
    "            return xr, it\n",
    "        \n",
    "        if (f(xl) * f(xr)) > 0:\n",
    "            \n",
    "            xl = xr\n",
    "\n",
    "        else: \n",
    "            xu = xr\n",
    "            \n",
    "        \n",
    "    return xr, it"
   ]
  },
  {
   "cell_type": "code",
   "execution_count": 22,
   "metadata": {},
   "outputs": [],
   "source": [
    "def f(x):\n",
    "    return 2*x**4 + 4*x**3 + 3*x**2 - 10*x - 15"
   ]
  },
  {
   "cell_type": "code",
   "execution_count": 23,
   "metadata": {},
   "outputs": [
    {
     "data": {
      "text/plain": [
       "      converged: True\n",
       "           flag: 'converged'\n",
       " function_calls: 37\n",
       "     iterations: 35\n",
       "           root: 1.4928787086100783"
      ]
     },
     "execution_count": 23,
     "metadata": {},
     "output_type": "execute_result"
    }
   ],
   "source": [
    "bissec(f, 0, 3, 10**-10, 200)"
   ]
  },
  {
   "cell_type": "code",
   "execution_count": 24,
   "metadata": {},
   "outputs": [
    {
     "data": {
      "text/plain": [
       "(1.1129540940417413, 7)"
      ]
     },
     "execution_count": 24,
     "metadata": {},
     "output_type": "execute_result"
    }
   ],
   "source": [
    "falsaPosicao(f, 0, 3, 200 )"
   ]
  },
  {
   "cell_type": "markdown",
   "metadata": {},
   "source": [
    "# 4."
   ]
  },
  {
   "cell_type": "code",
   "execution_count": null,
   "metadata": {},
   "outputs": [],
   "source": [
    "def f(x):\n",
    "    return 2*np.sin(np.sqrt(x))-x\n",
    "\n",
    "print('Raiz:',pontoFixo(f, 0.5, 0.001))"
   ]
  },
  {
   "cell_type": "markdown",
   "metadata": {},
   "source": [
    "# 5."
   ]
  },
  {
   "cell_type": "code",
   "execution_count": null,
   "metadata": {},
   "outputs": [],
   "source": [
    "def f(x):\n",
    "    return 2*x**3 - 11.7*x**2 + 17.7*x - 5"
   ]
  },
  {
   "cell_type": "code",
   "execution_count": null,
   "metadata": {},
   "outputs": [],
   "source": [
    "def f2(x):\n",
    "    return 6*x**2 - 23.4*x + 17.7"
   ]
  },
  {
   "cell_type": "markdown",
   "metadata": {},
   "source": [
    "### a)"
   ]
  },
  {
   "cell_type": "code",
   "execution_count": null,
   "metadata": {},
   "outputs": [],
   "source": [
    "x = np.linspace(0, 4, 1000)\n",
    "plt.plot(x, f(x))"
   ]
  },
  {
   "cell_type": "markdown",
   "metadata": {},
   "source": [
    "### b)"
   ]
  },
  {
   "cell_type": "code",
   "execution_count": null,
   "metadata": {},
   "outputs": [],
   "source": [
    "print(\"Raiz:\",pontoFixo(f, 3, 3))"
   ]
  },
  {
   "cell_type": "markdown",
   "metadata": {},
   "source": [
    "### c)"
   ]
  },
  {
   "cell_type": "code",
   "execution_count": null,
   "metadata": {},
   "outputs": [],
   "source": [
    "newtonRapson(f, f2, 3, 3)"
   ]
  },
  {
   "cell_type": "markdown",
   "metadata": {},
   "source": [
    "### d)"
   ]
  },
  {
   "cell_type": "code",
   "execution_count": null,
   "metadata": {},
   "outputs": [],
   "source": [
    "secant(f, 4, 3 , 3)"
   ]
  },
  {
   "cell_type": "markdown",
   "metadata": {},
   "source": [
    "# 6."
   ]
  },
  {
   "cell_type": "markdown",
   "metadata": {},
   "source": [
    "### a)"
   ]
  },
  {
   "cell_type": "code",
   "execution_count": null,
   "metadata": {
    "scrolled": false
   },
   "outputs": [],
   "source": [
    "def f(x):\n",
    "    return 2*x**4 + 4*x**3 + 3*x**2 - 10*x - 15\n",
    "\n",
    "def df(x):\n",
    "    return 8*x**3 + 12*x**2 + 6*x - 10\n",
    "\n",
    "ini = time.time()\n",
    "print(\"=========== Bisseção ===========\\n\", bissec(f, 0, 3, 10**-10, 200))\n",
    "fim = time.time()\n",
    "print(\"Tempo: \", fim-ini, '\\n')\n",
    "\n",
    "\n",
    "ini = time.time()\n",
    "falsePosition = falsaPosicao(f, 0, 3, 200 )\n",
    "print(\"=========== Falsa Posição ===========\\nRaiz:\", falsePosition[0], '\\nInterações:', falsePosition[1])\n",
    "fim = time.time()\n",
    "print(\"Tempo: \", fim-ini)\n",
    "\n",
    "\n",
    "ini = time.time()\n",
    "print()\n",
    "print(\"=========== Ponto Fixo ===========\\nRaiz:\", pontoFixo(f, 0, 10**-10))\n",
    "fim = time.time()\n",
    "print(\"Tempo: \", fim-ini, '\\n')\n",
    "\n",
    "ini = time.time()\n",
    "print('===========  Newton-Raphson ===========')\n",
    "print(newtonRapson(f, df, 0, 200))\n",
    "fim = time.time()\n",
    "print(\"Tempo: \", fim-ini, '\\n')\n",
    "\n",
    "ini = time.time()\n",
    "print('=========== Secante ===========')\n",
    "print(secant(f, 0, 3 , 200))\n",
    "fim = time.time()\n",
    "print(\"Tempo: \", fim-ini)"
   ]
  },
  {
   "cell_type": "markdown",
   "metadata": {},
   "source": [
    "### b)"
   ]
  },
  {
   "cell_type": "code",
   "execution_count": null,
   "metadata": {},
   "outputs": [],
   "source": [
    "def f(x):\n",
    "    return (x + 3) * (x + 1) * (x - 2)**3\n",
    "\n",
    "def df(x):\n",
    "    return 2*x*(x-2)**3 + 4*(x-2)**3 + 3*x**4 - 27*x**2 + 12*x + 36\n",
    "\n",
    "inicio = time.time()\n",
    "print(\"=========== Bisseção ===========\\n\", bissec(f, 0, 5, 10**-10, 200))\n",
    "fim = time.time()\n",
    "print(\"Tempo:\", fim - inicio, '\\n')\n",
    "\n",
    "inicio = time.time()\n",
    "falsePosition = falsaPosicao(f, 0, 5, 200 )\n",
    "print(\"=========== Falsa Posição ===========\\nRaiz:\", falsePosition[0], '\\nInterações:', falsePosition[1])\n",
    "fim = time.time()\n",
    "print(\"Tempo:\", fim - inicio, '\\n')\n",
    "\n",
    "inicio = time.time()\n",
    "print(\"=========== Ponto Fixo ===========\")\n",
    "try:\n",
    "    print(\"Raiz:\", pontoFixo(f, 0, 10**-10))\n",
    "except RuntimeError:\n",
    "    print('Erro de convergência\\n')\n",
    "fim = time.time()\n",
    "print(\"Tempo:\", fim - inicio, '\\n')\n",
    "    \n",
    "\n",
    "inicio = time.time()\n",
    "print('===========  Newton-Raphson ===========')\n",
    "print(newtonRapson(f, df, 0, 200))\n",
    "fim = time.time()\n",
    "print(\"Tempo:\", fim - inicio,  '\\n')\n",
    "\n",
    "\n",
    "inicio = time.time()\n",
    "print('=========== Secante ===========')\n",
    "print(secant(f, 0, 3 , 200))\n",
    "fim = time.time()\n",
    "print(\"Tempo:\", fim - inicio)"
   ]
  },
  {
   "cell_type": "markdown",
   "metadata": {},
   "source": [
    "### c)"
   ]
  },
  {
   "cell_type": "code",
   "execution_count": null,
   "metadata": {},
   "outputs": [],
   "source": [
    "def f(x):\n",
    "    return 5*x**3 + x**2 - np.exp(1-2*x) + np.cos(x) + 20\n",
    "\n",
    "def df(x):\n",
    "    return 15*x**2 + 2*x + 2*np.exp(-2*x+1) - np.sin(x)\n",
    "\n",
    "inicio = time.time()\n",
    "print(\"=========== Bisseção ===========\\n\", bissec(f, -5, 5, 10**-10, 200))\n",
    "fim = time.time()\n",
    "print(\"Tempo:\", fim - inicio, '\\n')\n",
    "\n",
    "inicio = time.time()\n",
    "falsePosition = falsaPosicao(f, -5, 5, 200 )\n",
    "print(\"=========== Falsa Posição ===========\\nRaiz:\", falsePosition[0], '\\nInterações:', falsePosition[1])\n",
    "fim = time.time()\n",
    "print(\"Tempo:\", fim - inicio, '\\n')\n",
    "\n",
    "inicio = time.time()\n",
    "print(\"=========== Ponto Fixo ===========\")\n",
    "print(\"Raiz:\", pontoFixo(f, -5, 10**-10))\n",
    "fim = time.time()\n",
    "print(\"Tempo:\", fim - inicio, '\\n')\n",
    "\n",
    "inicio = time.time()\n",
    "print('===========  Newton-Raphson ===========')\n",
    "print(newtonRapson(f, df, -5, 200))\n",
    "fim = time.time()\n",
    "print(\"Tempo:\", fim - inicio, '\\n')\n",
    "\n",
    "inicio = time.time()\n",
    "print('=========== Secante ===========')\n",
    "print(secant(f, -5, 5 , 200))\n",
    "fim = time.time()\n",
    "print(\"Tempo:\", fim - inicio)"
   ]
  },
  {
   "cell_type": "markdown",
   "metadata": {},
   "source": [
    "### d)"
   ]
  },
  {
   "cell_type": "code",
   "execution_count": null,
   "metadata": {},
   "outputs": [],
   "source": [
    "def f(x):\n",
    "    return np.sin(x) * x + 4\n",
    "\n",
    "def df(x):\n",
    "    return x * np.cos(x) + np.sin(x)\n",
    "\n",
    "\n",
    "inicio = time.time()\n",
    "print(\"=========== Bisseção ===========\\n\", bissec(f, 1, 5, 10**-10, 200))\n",
    "fim = time.time()\n",
    "print(\"Tempo:\", fim - inicio, '\\n')\n",
    "\n",
    "\n",
    "inicio = time.time()\n",
    "falsePosition = falsaPosicao(f, 1, 5, 200 )\n",
    "print(\"=========== Falsa Posição ===========\\nRaiz:\", falsePosition[0], '\\nInterações:', falsePosition[1])\n",
    "fim = time.time()\n",
    "print(\"Tempo:\", fim - inicio, '\\n')\n",
    "\n",
    "\n",
    "inicio = time.time()\n",
    "print(\"=========== Ponto Fixo ===========\")\n",
    "print(\"Raiz:\", pontoFixo(f, 1, 10**-10))\n",
    "fim = time.time()\n",
    "print(\"Tempo:\", fim - inicio, '\\n')\n",
    "\n",
    "\n",
    "inicio = time.time()\n",
    "print('===========  Newton-Raphson ===========')\n",
    "print(newtonRapson(f, df, 1, 200))\n",
    "fim = time.time()\n",
    "print(\"Tempo:\", fim - inicio, '\\n')\n",
    "\n",
    "\n",
    "inicio = time.time()\n",
    "print('=========== Secante ===========')\n",
    "print(secant(f, 1, 5 , 200))\n",
    "fim = time.time()\n",
    "print(\"Tempo:\", fim - inicio)"
   ]
  },
  {
   "cell_type": "markdown",
   "metadata": {},
   "source": [
    "### e)"
   ]
  },
  {
   "cell_type": "code",
   "execution_count": null,
   "metadata": {},
   "outputs": [],
   "source": [
    "def f(x):\n",
    "    return (x-3)**5 * np.log(x)\n",
    "\n",
    "def df(x):\n",
    "    return 5 * np.log(x) * (x - 3)**4 + (x - 3)**5 / x\n",
    "\n",
    "inicio = time.time()\n",
    "print(\"=========== Bisseção ===========\\n\", bissec(f, 2, 5, 10**-10, 200))\n",
    "fim = time.time()\n",
    "print(\"Tempo:\", fim - inicio, '\\n')\n",
    "\n",
    "\n",
    "inicio = time.time()\n",
    "falsePosition = falsaPosicao(f, 2, 5, 200 )\n",
    "print(\"=========== Falsa Posição ===========\\nRaiz:\", falsePosition[0], '\\nInterações:', falsePosition[1])\n",
    "fim = time.time()\n",
    "print(\"Tempo:\", fim - inicio, '\\n')\n",
    "\n",
    "\n",
    "inicio = time.time()\n",
    "print(\"=========== Ponto Fixo ===========\")\n",
    "try:\n",
    "    print(\"Raiz:\", pontoFixo(f, 0, 10**-10))\n",
    "except RuntimeError:\n",
    "    print('Erro de convergência\\n')\n",
    "fim = time.time()\n",
    "print(\"Tempo:\", fim - inicio, '\\n')\n",
    "    \n",
    "inicio = time.time()\n",
    "print('===========  Newton-Raphson ===========')\n",
    "print(newtonRapson(f, df, 2, 200))\n",
    "fim = time.time()\n",
    "print(\"Tempo:\", fim - inicio, '\\n')\n",
    "\n",
    "\n",
    "inicio = time.time()\n",
    "print('=========== Secante ===========')\n",
    "print(secant(f, 2, 5 , 200))\n",
    "fim = time.time()\n",
    "print(\"Tempo:\", fim - inicio)"
   ]
  },
  {
   "cell_type": "markdown",
   "metadata": {},
   "source": [
    "### f)"
   ]
  },
  {
   "cell_type": "code",
   "execution_count": null,
   "metadata": {},
   "outputs": [],
   "source": [
    "def f(x):\n",
    "    return (x-3)**5 * np.log(x)\n",
    "\n",
    "def df(x):\n",
    "    return 5 * np.log(x) * (x - 3)**4 + (x - 3)**5 / x\n",
    "\n",
    "inicio = time.time()\n",
    "print(\"=========== Bisseção ===========\\n\", bissec(f, 0.8, 1.2, 10**-10, 200))\n",
    "fim = time.time()\n",
    "print(\"Tempo:\", fim - inicio, '\\n')\n",
    "\n",
    "\n",
    "inicio = time.time()\n",
    "falsePosition = falsaPosicao(f, 0.8, 1.2, 200 )\n",
    "print(\"=========== Falsa Posição ===========\\nRaiz:\", falsePosition[0], '\\nInterações:', falsePosition[1])\n",
    "fim = time.time()\n",
    "print(\"Tempo:\", fim - inicio, '\\n')\n",
    "\n",
    "\n",
    "\n",
    "inicio = time.time()\n",
    "print(\"=========== Ponto Fixo ===========\")\n",
    "try:\n",
    "    print(\"Raiz:\", pontoFixo(f, 0, 10**-10))\n",
    "except RuntimeError:\n",
    "    print('Erro de convergência\\n')\n",
    "fim = time.time()\n",
    "print(\"Tempo:\", fim - inicio, '\\n')\n",
    "\n",
    "\n",
    "inicio = time.time()\n",
    "print('===========  Newton-Raphson ===========')\n",
    "print(newtonRapson(f, df, 0.8, 200))\n",
    "fim = time.time()\n",
    "print(\"Tempo:\", fim - inicio, '\\n')\n",
    "\n",
    "\n",
    "inicio = time.time()\n",
    "print('=========== Secante ===========')\n",
    "print(secant(f, 0.8, 1.2 , 200))\n",
    "fim = time.time()\n",
    "print(\"Tempo:\", fim - inicio)"
   ]
  }
 ],
 "metadata": {
  "kernelspec": {
   "display_name": "Python 3",
   "language": "python",
   "name": "python3"
  },
  "language_info": {
   "codemirror_mode": {
    "name": "ipython",
    "version": 3
   },
   "file_extension": ".py",
   "mimetype": "text/x-python",
   "name": "python",
   "nbconvert_exporter": "python",
   "pygments_lexer": "ipython3",
   "version": "3.8.3"
  }
 },
 "nbformat": 4,
 "nbformat_minor": 4
}
