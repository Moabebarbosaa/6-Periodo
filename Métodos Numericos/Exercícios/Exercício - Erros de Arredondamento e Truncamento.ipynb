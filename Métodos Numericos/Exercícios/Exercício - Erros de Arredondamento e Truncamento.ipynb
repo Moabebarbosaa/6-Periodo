{
 "cells": [
  {
   "cell_type": "code",
   "execution_count": 37,
   "metadata": {},
   "outputs": [],
   "source": [
    "import numpy as np\n",
    "import math\n",
    "import matplotlib.pyplot as plt"
   ]
  },
  {
   "cell_type": "markdown",
   "metadata": {},
   "source": [
    "**1. O método “divisão e média”, um método antigo para estimação de raiz quadrada de um número\n",
    "positivo a, pode ser formulado como\n",
    "xi+1 = (xi + (a/xi)) / 2 .\n",
    "Calcule o erro relativo da aproximação para as 10 primeiras iterações.**\n"
   ]
  },
  {
   "cell_type": "code",
   "execution_count": 5,
   "metadata": {},
   "outputs": [
    {
     "name": "stdout",
     "output_type": "stream",
     "text": [
      "(Xi + 1)                (Erro)\n",
      "16.66667                100.00000\n",
      "11.33333                47.05882\n",
      "10.07843                12.45136\n",
      "10.00031                0.78124\n",
      "10.00000                0.00305\n",
      "10.00000                0.00000\n",
      "10.00000                0.00000\n",
      "10.00000                0.00000\n",
      "10.00000                0.00000\n",
      "10.00000                0.00000\n"
     ]
    }
   ],
   "source": [
    "raiz = 100\n",
    "chute = 30\n",
    "anterior = 0\n",
    "print(\"(Xi + 1)\",\"               (Erro)\")\n",
    "\n",
    "\n",
    "Lista_x = []\n",
    "Lista_erro = []\n",
    "\n",
    "for i in range(10):\n",
    "    x = ( chute + (raiz / chute) ) / 2\n",
    "    erro = (abs(x - anterior) / x) * 100\n",
    "    \n",
    "    print(\"%.5f\" % (x), \"              \",\"%.5f\" % (erro))\n",
    "    chute = x\n",
    "    anterior = x"
   ]
  },
  {
   "cell_type": "markdown",
   "metadata": {},
   "source": [
    "**2. Para computadores, o épsilon da máquina, ε, pode ser definido como o menor número que,\n",
    "adicionado a um, retorna um número maior que um. Usando o algoritmo abaixo, implemente\n",
    "um programa que calcula o épsilon da sua máquina. Compare com os resultados obtidos via\n",
    "numpy.\n",
    "<br />\n",
    "Passo 1: Defina e = 1 .\n",
    "<br />\n",
    "Passo 2: Se 1 + e for menor ou igual a 1, vá para o Passo 5;\n",
    "<br />\n",
    "caso contrário, vá ao Passo 3\n",
    "<br />\n",
    "Passo 3: e = e/2\n",
    "<br />\n",
    "Passo 4: Retorne ao Passo 2\n",
    "<br />\n",
    "Passo 5: e = 2 x e\n",
    "<br />**"
   ]
  },
  {
   "cell_type": "code",
   "execution_count": 39,
   "metadata": {},
   "outputs": [
    {
     "name": "stdout",
     "output_type": "stream",
     "text": [
      "Epsilon:                          2.220446049250313e-16\n",
      "Epsilon usando a função do numpy: 2.220446049250313e-16\n"
     ]
    }
   ],
   "source": [
    "import numpy as np\n",
    "\n",
    "def epsilon(e):\n",
    "    if 1 + e <= 1:\n",
    "        return 2*e\n",
    "    else:\n",
    "        return epsilon(e/2)\n",
    "    \n",
    "print(\"Epsilon:                         \", epsilon(1))\n",
    "print(\"Epsilon usando a função do numpy:\", np.finfo(float).eps)\n"
   ]
  },
  {
   "cell_type": "markdown",
   "metadata": {},
   "source": [
    "**3. A derivada de $f(x) = 1/(1 − 3 x 2)$ é dada por:**<br><br>\n",
    "$$f'(x) = \\frac{6x}{(1 − 3x^2)^2}$$\n",
    "**Avalie $f'(0.577)$, e comente o resultado obtido.**"
   ]
  },
  {
   "cell_type": "code",
   "execution_count": 9,
   "metadata": {},
   "outputs": [
    {
     "name": "stdout",
     "output_type": "stream",
     "text": [
      "Valor de F¹: 2352910.792601485\n",
      "Valor de F²: 2352910.7926461985\n",
      "O valor de F² é mais preciso e a expressão é mais fatorada\n"
     ]
    }
   ],
   "source": [
    "x = 0.577\n",
    "F1 = (6 * x) / (1 - (3 * x**2))**2\n",
    "F2 = (6 * x) / (1 - 6 * x**2 + 9 * x**4)\n",
    "print(\"Valor de F¹:\", F1)\n",
    "print(\"Valor de F²:\", F2)\n",
    "print(\"O valor de F² é mais preciso e a expressão é mais fatorada\")"
   ]
  },
  {
   "cell_type": "markdown",
   "metadata": {},
   "source": [
    "**4. Considere o seguinte processo iterativo:**<br>\n",
    "\n",
    "$$x^{(1)}=\\frac{1}{3}$$\n",
    "\n",
    "$$x^{(n+1)}=4x^{(n)} - 1,        n = 1,2,...$$\n",
    "\n",
    "**Observe que $x^{(1)} = \\frac{1}{3}, x^{(2)} = 4.\\frac{1}{3}, x^{(3)} = \\frac{1}{3}$, ou seja, temos uma sequência constante igual a $\\frac{1}{3}$. <br>\n",
    "Implemente essa série iterativa, verificando se a convergência de fato ocorre e justifique o resultado obtido.**\n"
   ]
  },
  {
   "cell_type": "code",
   "execution_count": 19,
   "metadata": {},
   "outputs": [
    {
     "name": "stdout",
     "output_type": "stream",
     "text": [
      "0.33333333333333326\n",
      "0.33333333333333304\n",
      "0.33333333333333215\n",
      "0.3333333333333286\n",
      "0.3333333333333144\n",
      "0.33333333333325754\n",
      "0.33333333333303017\n",
      "0.3333333333321207\n",
      "0.3333333333284827\n",
      "0.3333333333139308\n",
      "0.3333333332557231\n",
      "0.3333333330228925\n",
      "0.3333333320915699\n",
      "0.3333333283662796\n",
      "0.3333333134651184\n",
      "0.33333325386047363\n",
      "0.33333301544189453\n",
      "0.3333320617675781\n",
      "0.3333282470703125\n",
      "0.33331298828125\n",
      "0.333251953125\n",
      "0.3330078125\n",
      "0.33203125\n",
      "0.328125\n",
      "0.3125\n",
      "0.25\n",
      "0.0\n",
      "A medida que vai acontecendo as interações o valores vão diminuindo até o ponto em que o resultado da zero\n"
     ]
    }
   ],
   "source": [
    "x = 1/3\n",
    "const = 1/3\n",
    "\n",
    "for i in range(1, 28):\n",
    "    x = (4 * x) - 1\n",
    "    print(x)\n",
    "print(\"A medida que vai acontecendo as interações o valores vão diminuindo até o ponto em que o resultado da zero\")"
   ]
  },
  {
   "cell_type": "markdown",
   "metadata": {},
   "source": [
    "**5. Observe a seguinte identidade**<br>\n",
    "$f(x)=\\frac{(1+x)-1}{x}=1$\n",
    "**Calcule o valor da expressão a esquerda para $x=12^{-12}, x=10^{-13}, x=10^{-14}, x=10^{-15},x=10^{-16}, x=10^{-17}$. Explique os resultados.**"
   ]
  },
  {
   "cell_type": "code",
   "execution_count": 22,
   "metadata": {},
   "outputs": [
    {
     "name": "stdout",
     "output_type": "stream",
     "text": [
      "(1.000088900582341, 0.9999999999989999)\n",
      "(0.9992007221626409, 0.9999999999999001)\n",
      "(0.9992007221626409, 0.99999999999999)\n",
      "(1.1102230246251565, 0.9999999999999989)\n",
      "(0.0, 1.0)\n",
      "(0.0, 1.0)\n",
      "================================\n",
      "(1.0, 999999999999.0)\n",
      "(1.0, 9999999999999.0)\n",
      "(1.0, 99999999999999.0)\n",
      "(1.0, 999999999999999.0)\n",
      "(1.0, 1e+16)\n",
      "(1.0, 1e+17)\n",
      "================================\n",
      "Usando o float64 todos os resultados são 1. E sem usar os resultados são divergentes\n"
     ]
    }
   ],
   "source": [
    "import numpy as np\n",
    "def identidade(x):\n",
    "    valor = 1 + x - 1\n",
    "    return valor / x, abs(1 - valor) / 1\n",
    "\n",
    "print(identidade(10**-12))\n",
    "print(identidade(10**-13))\n",
    "print(identidade(10**-14))\n",
    "print(identidade(10**-15))\n",
    "print(identidade(10**-16))\n",
    "print(identidade(10**-17))\n",
    "\n",
    "print(\"================================\")\n",
    "print(identidade(np.float64(10**12)))\n",
    "print(identidade(np.float64(10**13)))\n",
    "print(identidade(np.float64(10**14)))\n",
    "print(identidade(np.float64(10**15)))\n",
    "print(identidade(np.float64(10**16)))\n",
    "print(identidade(np.float64(10**17)))\n",
    "print(\"================================\")\n",
    "print(\"Usando o float64 todos os resultados são 1. E sem usar os resultados são divergentes\")"
   ]
  },
  {
   "cell_type": "markdown",
   "metadata": {},
   "source": [
    "**6. Considere as expressões:**\n",
    "\n",
    "$\\frac{exp(\\frac{1}{µ})}{1 + exp(\\frac{-1}{µ}) + 1}$ <br><br>\n",
    "**e<br><br>\n",
    "$\\frac{1}{exp(\\frac{-1}{µ}) + 1}$<br><br>\n",
    "com µ > 0. Verifique que elas são idênticas como funções reais. Teste no computador cada uma\n",
    "delas para µ = 0, 1, µ = 0, 01 e µ = 0, 001. Qual dessas expressões é mais adequada quando µ é\n",
    "um número pequeno? Por quê?**"
   ]
  },
  {
   "cell_type": "code",
   "execution_count": 49,
   "metadata": {},
   "outputs": [
    {
     "name": "stdout",
     "output_type": "stream",
     "text": [
      "0.9999546021312976 0.9999546021312976\n",
      "1.0 1.0\n",
      "nan 1.0\n"
     ]
    },
    {
     "name": "stderr",
     "output_type": "stream",
     "text": [
      "P:\\Programas\\Anaconda3\\lib\\site-packages\\ipykernel_launcher.py:2: RuntimeWarning: invalid value encountered in double_scalars\n",
      "  \n"
     ]
    }
   ],
   "source": [
    "def expressao1(m):\n",
    "    return (np.exp(1/m)) / (1 + np.exp(1/m))\n",
    "\n",
    "def expressao2(m):\n",
    "    return 1 / (np.exp(-1/m) + 1)\n",
    "\n",
    "\n",
    "print(expressao1(0.1), expressao2(0.1))\n",
    "print(expressao1(0.01), expressao2(0.01))\n",
    "print(expressao1(0.001), expressao2(0.001))"
   ]
  },
  {
   "cell_type": "markdown",
   "metadata": {},
   "source": [
    "Quando o número é muito pequeno, a expressão mais indicada é a segunda. Porque na primeira expressão ele entrega um resultado que não está fora da escala."
   ]
  },
  {
   "cell_type": "markdown",
   "metadata": {},
   "source": [
    "### Resolução dos exercícios do cap. 4  do livro: Métodos Numéricos Aplicados com Matlab para Engenheiros e Cientistas, do Steven C. Chapra"
   ]
  },
  {
   "cell_type": "markdown",
   "metadata": {},
   "source": [
    "# 4.8"
   ]
  },
  {
   "cell_type": "code",
   "execution_count": 20,
   "metadata": {},
   "outputs": [
    {
     "data": {
      "text/plain": [
       "2352910.792601485"
      ]
     },
     "execution_count": 20,
     "metadata": {},
     "output_type": "execute_result"
    }
   ],
   "source": [
    "x = 0.577\n",
    "F1 = (6 * x) / (1 - (3 * x**2))**2\n",
    "F1"
   ]
  },
  {
   "cell_type": "markdown",
   "metadata": {},
   "source": [
    "Com três algarismos significativos:"
   ]
  },
  {
   "cell_type": "code",
   "execution_count": 21,
   "metadata": {},
   "outputs": [
    {
     "name": "stdout",
     "output_type": "stream",
     "text": [
      "2352910.793\n"
     ]
    }
   ],
   "source": [
    "print(\"%.3f\" % F1)"
   ]
  },
  {
   "cell_type": "markdown",
   "metadata": {},
   "source": [
    "Com quatro algarismos significativos:"
   ]
  },
  {
   "cell_type": "code",
   "execution_count": 23,
   "metadata": {},
   "outputs": [
    {
     "name": "stdout",
     "output_type": "stream",
     "text": [
      "2352910.7926\n"
     ]
    }
   ],
   "source": [
    "print(\"%.4f\" % F1)"
   ]
  },
  {
   "cell_type": "markdown",
   "metadata": {},
   "source": [
    "# 4.9"
   ]
  },
  {
   "cell_type": "markdown",
   "metadata": {},
   "source": [
    "**a)**"
   ]
  },
  {
   "cell_type": "code",
   "execution_count": 50,
   "metadata": {},
   "outputs": [
    {
     "name": "stdout",
     "output_type": "stream",
     "text": [
      "Valor de y: 0.04305300000000012\n",
      "Erro de truncamento:  0.12\n",
      "Erro relativo percentual:  178.72622116925572 %\n"
     ]
    }
   ],
   "source": [
    "x = 1.37\n",
    "y = x**3 - 7 * x**2 + 8 * x - 0.35\n",
    "print(\"Valor de y:\", y)\n",
    "\n",
    "erroTrucamento = np.trunc((abs(y - 0.043) / y) * 100 * 100) / 100\n",
    "print(\"Erro de truncamento: \", erroTrucamento)\n",
    "\n",
    "erroRelativo = (abs(y - erroTrucamento) / y) * 100\n",
    "print(\"Erro relativo percentual: \", erroRelativo, \"%\")"
   ]
  },
  {
   "cell_type": "markdown",
   "metadata": {},
   "source": [
    "**b)**"
   ]
  },
  {
   "cell_type": "code",
   "execution_count": 51,
   "metadata": {},
   "outputs": [
    {
     "name": "stdout",
     "output_type": "stream",
     "text": [
      "Valor de y: 0.043052999999999064\n",
      "Erro de truncamento:  0.12\n",
      "Erro relativo percentual:  178.72622116926254 %\n"
     ]
    }
   ],
   "source": [
    "x = 1.37\n",
    "y = ((x - 7) * x + 8) * x - 0.35\n",
    "print(\"Valor de y:\", y)\n",
    "\n",
    "erroTrucamento = np.trunc((abs(y - 0.043) / y) * 100 * 100) / 100\n",
    "print(\"Erro de truncamento: \", erroTrucamento)\n",
    "\n",
    "erroRelativo = (abs(y - erroTrucamento) / y) * 100\n",
    "print(\"Erro relativo percentual: \", erroRelativo, \"%\")"
   ]
  },
  {
   "cell_type": "markdown",
   "metadata": {},
   "source": [
    "# 4.11"
   ]
  },
  {
   "cell_type": "code",
   "execution_count": null,
   "metadata": {},
   "outputs": [],
   "source": []
  }
 ],
 "metadata": {
  "kernelspec": {
   "display_name": "Python 3",
   "language": "python",
   "name": "python3"
  },
  "language_info": {
   "codemirror_mode": {
    "name": "ipython",
    "version": 3
   },
   "file_extension": ".py",
   "mimetype": "text/x-python",
   "name": "python",
   "nbconvert_exporter": "python",
   "pygments_lexer": "ipython3",
   "version": "3.7.4"
  }
 },
 "nbformat": 4,
 "nbformat_minor": 2
}
