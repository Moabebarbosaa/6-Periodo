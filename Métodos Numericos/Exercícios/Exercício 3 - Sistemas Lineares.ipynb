{
 "cells": [
  {
   "cell_type": "code",
   "execution_count": 6,
   "metadata": {},
   "outputs": [],
   "source": [
    "import scipy.linalg as sla\n",
    "import numpy as np"
   ]
  },
  {
   "cell_type": "markdown",
   "metadata": {},
   "source": [
    "### Exercício 1.\n",
    "* Verifique, refazendo o exemplo acima, se a equação da substituição retroativa, descrita na equação 20, de fato funciona.\n"
   ]
  },
  {
   "cell_type": "code",
   "execution_count": 30,
   "metadata": {},
   "outputs": [],
   "source": [
    "A = np.array([[3, 4, -5, 1],[0, 1, 1, -2],[0, 0, 4, -5],[0, 0, 0, 2]])\n",
    "b = np.array([-10, -1, 3, 2])"
   ]
  },
  {
   "cell_type": "code",
   "execution_count": 31,
   "metadata": {},
   "outputs": [
    {
     "data": {
      "text/plain": [
       "array([ 1., -1.,  2.,  1.])"
      ]
     },
     "execution_count": 31,
     "metadata": {},
     "output_type": "execute_result"
    }
   ],
   "source": [
    "sla.solve_triangular(A,B)"
   ]
  },
  {
   "cell_type": "markdown",
   "metadata": {},
   "source": [
    "Funciona!"
   ]
  },
  {
   "cell_type": "markdown",
   "metadata": {},
   "source": [
    "### Exercício 2.\n",
    "* Faça um programa em Python que calcule a solução de um sistema triangular superior usando substituição retroativa. Para representação das matrizes e vetores use exclusivamente Numpy."
   ]
  },
  {
   "cell_type": "code",
   "execution_count": 32,
   "metadata": {},
   "outputs": [
    {
     "name": "stdout",
     "output_type": "stream",
     "text": [
      "[ 1. -1.  2.  1.]\n"
     ]
    }
   ],
   "source": [
    "def SubstituicaoRetroativa(A, b):\n",
    "    n = np.size(b)\n",
    "    x = np.zeros(n)\n",
    "\n",
    "    for i in range(n-1, -1, -1):\n",
    "        soma = 0\n",
    "        for j in range(i + 1, n):\n",
    "            soma += A[i][j] * x[j]\n",
    "        x[i] = (b[i] - soma) / A[i][i]\n",
    "    return x\n",
    "\n",
    "A = np.array([[3, 4, -5, 1],[0, 1, 1, -2],[0, 0, 4, -5],[0, 0, 0, 2]])\n",
    "b = np.array([-10, -1, 3, 2])\n",
    "print(SubstituicaoRetroativa(A, b))"
   ]
  },
  {
   "cell_type": "markdown",
   "metadata": {},
   "source": [
    "### Exercício 3.\n",
    "\n",
    "* Faça um programa em Python que calcule a solução de um sistema triangular inferior usando substituição progressiva. Para representação das matrizes e vetores use exclusivamente Numpy"
   ]
  },
  {
   "cell_type": "code",
   "execution_count": 20,
   "metadata": {},
   "outputs": [
    {
     "name": "stdout",
     "output_type": "stream",
     "text": [
      "[ 1.33333333 -0.66666667  2.66666667 -1.33333333]\n"
     ]
    }
   ],
   "source": [
    "def SubstituicaoProgressiva(a, b):\n",
    "    n = np.size(b)\n",
    "    x = np.zeros(n)\n",
    "    for i in range(n):\n",
    "        soma = 0\n",
    "        for j in range(n - 1, -1, -1):\n",
    "            soma += a[i][j] * x[j]\n",
    "\n",
    "        x[i] = (b[i] - soma) / a[i][i]\n",
    "    return x\n",
    "\n",
    "\n",
    "\n",
    "A = np.array([[3, 0, 0, 0], [2, 1, 0, 0], [1, 0, 1, 0], [1, 1, 1, 1]])\n",
    "b = np.array([4, 2, 4, 2])\n",
    "print(SubstituicaoProgressiva(A, b))"
   ]
  },
  {
   "cell_type": "markdown",
   "metadata": {},
   "source": [
    "### Exercício 4. \n",
    "* Compare os resultados das implementações de suas funções para a solução de sistemas triangulares com a função do scipy. Os resultados são diferentes? Experimente com outros exemplos."
   ]
  },
  {
   "cell_type": "code",
   "execution_count": 34,
   "metadata": {},
   "outputs": [],
   "source": [
    "# SISTEMAS TRIANGULARES IFERIORES "
   ]
  },
  {
   "cell_type": "code",
   "execution_count": 49,
   "metadata": {},
   "outputs": [
    {
     "name": "stdout",
     "output_type": "stream",
     "text": [
      "Minha Função: [ 1.33333333 -0.66666667  2.66666667 -1.33333333]\n",
      "Scipy       : [ 1.33333333 -0.66666667  2.66666667 -1.33333333]\n"
     ]
    }
   ],
   "source": [
    "A = np.array([[3, 0, 0, 0], [2, 1, 0, 0], [1, 0, 1, 0], [1, 1, 1, 1]])\n",
    "b = np.array([4, 2, 4, 2])\n",
    "print(\"Minha Função:\", SubstituicaoProgressiva(A, b))\n",
    "print(\"Scipy       :\",sla.solve_triangular(A, b, lower=True))"
   ]
  },
  {
   "cell_type": "code",
   "execution_count": 50,
   "metadata": {},
   "outputs": [
    {
     "name": "stdout",
     "output_type": "stream",
     "text": [
      "Minha Função: [ 2.  4. -4.]\n",
      "Scipy       : [ 2.  4. -4.]\n"
     ]
    }
   ],
   "source": [
    "A = np.array([[4, 5, 5], [6, -1, -2], [0, 2, 2]])\n",
    "b = np.array([8, 8, 0])\n",
    "print(\"Minha Função:\", SubstituicaoProgressiva(A, b))\n",
    "print(\"Scipy       :\",sla.solve_triangular(A, b, lower=True))"
   ]
  },
  {
   "cell_type": "code",
   "execution_count": 35,
   "metadata": {},
   "outputs": [],
   "source": [
    "# SISTEMAS TRIANGULARES SUPERIORES "
   ]
  },
  {
   "cell_type": "code",
   "execution_count": 53,
   "metadata": {},
   "outputs": [
    {
     "name": "stdout",
     "output_type": "stream",
     "text": [
      "Minha Função: [ 1. -1.  2.  1.]\n",
      "Scipy       : [ 1. -1.  2.  1.]\n"
     ]
    }
   ],
   "source": [
    "A = np.array([[3, 4, -5, 1],[0, 1, 1, -2],[0, 0, 4, -5],[0, 0, 0, 2]])\n",
    "B = np.array([-10, -1, 3, 2])\n",
    "print(\"Minha Função:\", SubstituicaoRetroativa(A, B))\n",
    "print(\"Scipy       :\", sla.solve_triangular(A, B))"
   ]
  },
  {
   "cell_type": "markdown",
   "metadata": {},
   "source": [
    "**Respostas com os mesmo resultados**"
   ]
  }
 ],
 "metadata": {
  "kernelspec": {
   "display_name": "Python 3",
   "language": "python",
   "name": "python3"
  },
  "language_info": {
   "codemirror_mode": {
    "name": "ipython",
    "version": 3
   },
   "file_extension": ".py",
   "mimetype": "text/x-python",
   "name": "python",
   "nbconvert_exporter": "python",
   "pygments_lexer": "ipython3",
   "version": "3.8.3"
  }
 },
 "nbformat": 4,
 "nbformat_minor": 4
}
