{
 "cells": [
  {
   "cell_type": "code",
   "execution_count": 8,
   "metadata": {},
   "outputs": [],
   "source": [
    "import numpy as np"
   ]
  },
  {
   "cell_type": "markdown",
   "metadata": {},
   "source": [
    "# 1. "
   ]
  },
  {
   "cell_type": "code",
   "execution_count": 6,
   "metadata": {},
   "outputs": [
    {
     "name": "stdout",
     "output_type": "stream",
     "text": [
      "== Interação 0 ==\n",
      "x:  8.2\n",
      "Erro: 112.19512195121952\n",
      "\n",
      "== Interação 1 ==\n",
      "x:  8.002439024390243\n",
      "Erro: 2.4687595245351996\n",
      "\n",
      "== Interação 2 ==\n",
      "x:  8.000000371689179\n",
      "Erro: 0.030483157347023407\n",
      "\n",
      "== Interação 3 ==\n",
      "x:  8.000000000000009\n",
      "Erro: 4.6461146263609925e-06\n",
      "\n",
      "== Interação 4 ==\n",
      "x:  8.0\n",
      "Erro: 1.1102230246251565e-13\n",
      "\n",
      "== Interação 5 ==\n",
      "x:  8.0\n",
      "Erro: 0.0\n",
      "\n",
      "== Interação 6 ==\n",
      "x:  8.0\n",
      "Erro: 0.0\n",
      "\n",
      "== Interação 7 ==\n",
      "x:  8.0\n",
      "Erro: 0.0\n",
      "\n",
      "== Interação 8 ==\n",
      "x:  8.0\n",
      "Erro: 0.0\n",
      "\n",
      "== Interação 9 ==\n",
      "x:  8.0\n",
      "Erro: 0.0\n",
      "\n"
     ]
    }
   ],
   "source": [
    "x = 1\n",
    "a = 64\n",
    "inicial = 10\n",
    "anterior = -1\n",
    "for i in range(10):\n",
    "    print('== Interação', i, '==')\n",
    "    prox = (inicial + (a/inicial)) / 2\n",
    "    print(\"x: \",prox)\n",
    "    \n",
    "    erro = (abs(prox-anterior)/prox)*100\n",
    "    print(\"Erro:\", erro)    \n",
    "    print()\n",
    "    \n",
    "    anterior = prox\n",
    "    inicial = prox"
   ]
  },
  {
   "cell_type": "markdown",
   "metadata": {},
   "source": [
    "# 2."
   ]
  },
  {
   "cell_type": "code",
   "execution_count": 11,
   "metadata": {},
   "outputs": [
    {
     "name": "stdout",
     "output_type": "stream",
     "text": [
      "Epsilon: 2.220446049250313e-16\n",
      "Epsilon da máquina: 2.220446049250313e-16\n"
     ]
    }
   ],
   "source": [
    "e = 1\n",
    "while((1 + e) > 1):\n",
    "    if 1 + e <= 1:\n",
    "        e = 2 * e\n",
    "    else:\n",
    "        e = e / 2\n",
    "e = 2*e\n",
    "e2 = np.finfo(float).eps\n",
    "print(\"Epsilon:\", e)\n",
    "print('Epsilon da máquina:', e2)"
   ]
  },
  {
   "cell_type": "code",
   "execution_count": 12,
   "metadata": {},
   "outputs": [
    {
     "name": "stdout",
     "output_type": "stream",
     "text": [
      "Épsilon da máquinha igual ao épsilon do algoritmo !!\n"
     ]
    }
   ],
   "source": [
    "if e == e2:\n",
    "    print(\"Épsilon da máquinha igual ao épsilon do algoritmo !!\")\n",
    "else:\n",
    "    print(\"Épsilon da máquinha diferente ao épsilon do algoritmo !!\")"
   ]
  },
  {
   "cell_type": "markdown",
   "metadata": {},
   "source": [
    "# 3. "
   ]
  },
  {
   "cell_type": "code",
   "execution_count": 14,
   "metadata": {},
   "outputs": [
    {
     "name": "stdout",
     "output_type": "stream",
     "text": [
      "0.33333333333333326\n",
      "0.33333333333333304\n",
      "0.33333333333333215\n",
      "0.3333333333333286\n",
      "0.3333333333333144\n",
      "0.33333333333325754\n",
      "0.33333333333303017\n",
      "0.3333333333321207\n",
      "0.3333333333284827\n",
      "0.3333333333139308\n",
      "0.3333333332557231\n",
      "0.3333333330228925\n",
      "0.3333333320915699\n",
      "0.3333333283662796\n",
      "0.3333333134651184\n",
      "0.33333325386047363\n",
      "0.33333301544189453\n",
      "0.3333320617675781\n",
      "0.3333282470703125\n",
      "0.33331298828125\n",
      "0.333251953125\n",
      "0.3330078125\n",
      "0.33203125\n",
      "0.328125\n",
      "0.3125\n",
      "0.25\n",
      "0.0\n",
      "-1.0\n",
      "-5.0\n",
      "-21.0\n"
     ]
    }
   ],
   "source": [
    "x = 1/3\n",
    "for i in range(30):\n",
    "    x = (4 * x) - 1\n",
    "    print(x)"
   ]
  },
  {
   "cell_type": "markdown",
   "metadata": {},
   "source": [
    "Vimos que na primeira interação ele da o valor **0.33333333333333326** ao invés de **0.33333 ...** . Então a cada interação o resultando vai mudando por causa desse valor.  "
   ]
  },
  {
   "cell_type": "markdown",
   "metadata": {},
   "source": [
    "# 4. "
   ]
  },
  {
   "cell_type": "code",
   "execution_count": 32,
   "metadata": {},
   "outputs": [],
   "source": [
    "def calcular(micro):\n",
    "    print(\"Micro:\", micro)\n",
    "    print(np.exp(1/micro) / 1 + np.exp(1/micro))\n",
    "    print(1/np.exp(-1/micro) + 1)\n",
    "    print()"
   ]
  },
  {
   "cell_type": "code",
   "execution_count": 34,
   "metadata": {},
   "outputs": [
    {
     "name": "stdout",
     "output_type": "stream",
     "text": [
      "Micro: 0.1\n",
      "44052.931589613436\n",
      "22027.465794806714\n",
      "\n",
      "Micro: 0.01\n",
      "5.376234283632271e+43\n",
      "2.688117141816135e+43\n",
      "\n",
      "Micro: 0.001\n",
      "inf\n",
      "inf\n",
      "\n",
      "Micro: 0.0001\n",
      "inf\n",
      "inf\n",
      "\n"
     ]
    },
    {
     "name": "stderr",
     "output_type": "stream",
     "text": [
      "<ipython-input-32-6334e7323047>:3: RuntimeWarning: overflow encountered in exp\n",
      "  print(np.exp(1/micro) / 1 + np.exp(1/micro))\n",
      "<ipython-input-32-6334e7323047>:4: RuntimeWarning: divide by zero encountered in double_scalars\n",
      "  print(1/np.exp(-1/micro) + 1)\n"
     ]
    }
   ],
   "source": [
    "calcular(0.1)\n",
    "calcular(0.01)\n",
    "calcular(0.001)\n",
    "calcular(0.0001)"
   ]
  },
  {
   "cell_type": "markdown",
   "metadata": {},
   "source": [
    "Quando µ é pequeno, e\n",
    "1/µ é um número grande. A primeira expressão produz um ”overflow” (número maior que o\n",
    "máximo representável) quando µ é pequeno. A segunda expressão, no entanto, reproduz o limite 1 quando µ → 0+."
   ]
  },
  {
   "cell_type": "markdown",
   "metadata": {},
   "source": [
    "# 5."
   ]
  },
  {
   "cell_type": "code",
   "execution_count": 18,
   "metadata": {},
   "outputs": [
    {
     "name": "stdout",
     "output_type": "stream",
     "text": [
      "x(1e-12) = 1.000088900582341\n",
      "x(1e-15) = 1.1102230246251565\n",
      "x(1e-16) = 0.0\n",
      "x(1e-17) = 0.0\n"
     ]
    }
   ],
   "source": [
    "def f(x):\n",
    "    print(\"x(\" + str(x) + \") =\", ((1 + x) - 1) / x)\n",
    "\n",
    "f(10**-12)\n",
    "f(10**-15)\n",
    "f(10**-16)\n",
    "f(10**-17)"
   ]
  },
  {
   "cell_type": "markdown",
   "metadata": {},
   "source": [
    "Quando o valor inserido na função é menor que e^15 chega ao máximo que o computador pode calcular de acordo com o épsilon da máquina(float64)."
   ]
  }
 ],
 "metadata": {
  "kernelspec": {
   "display_name": "Python 3",
   "language": "python",
   "name": "python3"
  },
  "language_info": {
   "codemirror_mode": {
    "name": "ipython",
    "version": 3
   },
   "file_extension": ".py",
   "mimetype": "text/x-python",
   "name": "python",
   "nbconvert_exporter": "python",
   "pygments_lexer": "ipython3",
   "version": "3.8.3"
  }
 },
 "nbformat": 4,
 "nbformat_minor": 4
}
