{
 "cells": [
  {
   "cell_type": "code",
   "execution_count": 123,
   "metadata": {},
   "outputs": [],
   "source": [
    "import numpy as np"
   ]
  },
  {
   "cell_type": "code",
   "execution_count": 124,
   "metadata": {},
   "outputs": [],
   "source": [
    "def funcao(a, b, erro, interacoes):\n",
    "\n",
    "    iter = 0\n",
    "    resultado = a\n",
    "    erroRelativo = 0\n",
    "\n",
    "    print(\"_____________________________________________________________________________\")\n",
    "    print(\"Interações\", \"        a\", \"        Raiz Aproximada\", \"          b\", \"             % Erro\")\n",
    "    print(\"-----------------------------------------------------------------------------\")\n",
    "\n",
    "    while True:\n",
    "        resultadoTemporario = resultado\n",
    "        if (funcaoDerivada(a) == 0):\n",
    "            resultadoTemporario = a\n",
    "            a = b\n",
    "            b = resultadoTemporario\n",
    "\n",
    "        resultado = ((a * f(b) - b * f(a)) / (2 * (f(b) - f(a)))) + ((a - (f(a) / funcaoDerivada(a))) / 2)\n",
    "\n",
    "\n",
    "        print(\"    %d           %.4f           %.4f             %.4f            %.2f\" % (iter + 1, a, resultado, b, erroRelativo))\n",
    "        iter += 1\n",
    "\n",
    "\n",
    "        erroRelativo = abs((resultado - resultadoTemporario) / resultado) * 100\n",
    "\n",
    "\n",
    "        if (f(a) * f(resultado) < 0):\n",
    "            if (abs(f(a)) >= abs(f(resultado))):\n",
    "                b = a\n",
    "                a = resultado\n",
    "\n",
    "        elif (f(a) * f(resultado) > 0):\n",
    "            if (abs(f(resultado)) < abs(f(b))):\n",
    "                a = resultado\n",
    "            else:\n",
    "                a = b\n",
    "                b = resultado\n",
    "\n",
    "        else:\n",
    "            erroRelativo = 0\n",
    "\n",
    "        if erroRelativo <= erro and iter >= interacoes:\n",
    "            break\n",
    "\n",
    "    print(\"\\n\")\n",
    "    print(\"-----------------------------\")\n",
    "    print(\"|  Raiz aproximada = %.2f   |\" % (resultado))\n",
    "    print(\"-----------------------------\")\n"
   ]
  },
  {
   "cell_type": "markdown",
   "metadata": {},
   "source": [
    "# EXEMPLO 3"
   ]
  },
  {
   "cell_type": "code",
   "execution_count": 125,
   "metadata": {},
   "outputs": [
    {
     "name": "stdout",
     "output_type": "stream",
     "text": [
      "_____________________________________________________________________________\n",
      "Interações         a         Raiz Aproximada           b              % Erro\n",
      "-----------------------------------------------------------------------------\n",
      "    1           0.0000           0.6573             1.0000            0.00\n",
      "    2           0.6573           0.4886             0.0000            100.00\n",
      "    3           0.4886           0.5165             0.6573            34.52\n",
      "    4           0.5165           0.5177             0.6573            5.40\n",
      "    5           0.5177           0.5178             0.6573            0.23\n",
      "    6           0.5178           0.5178             0.6573            0.01\n",
      "    7           0.5178           0.5178             0.6573            0.00\n",
      "    8           0.5178           0.5178             0.6573            0.00\n",
      "\n",
      "\n",
      "-----------------------------\n",
      "|  Raiz aproximada = 0.52   |\n",
      "-----------------------------\n"
     ]
    }
   ],
   "source": [
    "def f(x):\n",
    "    return x * np.exp(x) - np.cos(x)\n",
    "\n",
    "def funcaoDerivada(x):\n",
    "    return np.exp(x) + np.exp(x) * x + np.sin(x)\n",
    "\n",
    "funcao(0, 1, 1, 8)"
   ]
  },
  {
   "cell_type": "markdown",
   "metadata": {},
   "source": [
    "# EXEMPLO 4"
   ]
  },
  {
   "cell_type": "code",
   "execution_count": 126,
   "metadata": {},
   "outputs": [
    {
     "name": "stdout",
     "output_type": "stream",
     "text": [
      "_____________________________________________________________________________\n",
      "Interações         a         Raiz Aproximada           b              % Erro\n",
      "-----------------------------------------------------------------------------\n",
      "    1           1.0000           3.2199             3.0000            0.00\n",
      "    2           3.2199           2.6935             1.0000            68.94\n",
      "    3           2.6935           2.7398             3.2199            19.54\n",
      "    4           2.7398           2.7406             3.2199            1.69\n",
      "    5           2.7406           2.7406             3.2199            0.03\n",
      "    6           2.7406           2.7406             3.2199            0.00\n",
      "    7           2.7406           2.7406             3.2199            0.00\n",
      "    8           2.7406           2.7406             3.2199            0.00\n",
      "\n",
      "\n",
      "-----------------------------\n",
      "|  Raiz aproximada = 2.74   |\n",
      "-----------------------------\n"
     ]
    }
   ],
   "source": [
    "def f(x):\n",
    "    return x * np.log10(x) - 1.2\n",
    "\n",
    "def funcaoDerivada(x):\n",
    "    return np.log10(x) + (1/np.log(10))\n",
    "\n",
    "funcao(1, 3, 1, 8)"
   ]
  },
  {
   "cell_type": "markdown",
   "metadata": {},
   "source": [
    "# EXEMPLO 5"
   ]
  },
  {
   "cell_type": "code",
   "execution_count": 127,
   "metadata": {},
   "outputs": [
    {
     "name": "stdout",
     "output_type": "stream",
     "text": [
      "_____________________________________________________________________________\n",
      "Interações         a         Raiz Aproximada           b              % Erro\n",
      "-----------------------------------------------------------------------------\n",
      "    1           2.0000           0.8750             0.0000            0.00\n",
      "    2           0.8750           0.9827             2.0000            100.00\n",
      "    3           0.9827           0.9972             2.0000            10.96\n",
      "    4           0.9972           0.9995             2.0000            1.45\n",
      "    5           0.9995           0.9999             2.0000            0.24\n",
      "    6           0.9999           1.0000             2.0000            0.04\n",
      "    7           1.0000           1.0000             2.0000            0.01\n",
      "    8           1.0000           1.0000             2.0000            0.00\n",
      "\n",
      "\n",
      "-----------------------------\n",
      "|  Raiz aproximada = 1.00   |\n",
      "-----------------------------\n"
     ]
    }
   ],
   "source": [
    "def f(x):\n",
    "    return 1 - x**2\n",
    "\n",
    "def funcaoDerivada(x):\n",
    "    return -2*x\n",
    "funcao(0, 2, 1, 8)"
   ]
  }
 ],
 "metadata": {
  "kernelspec": {
   "display_name": "Python 3",
   "language": "python",
   "name": "python3"
  },
  "language_info": {
   "codemirror_mode": {
    "name": "ipython",
    "version": 3
   },
   "file_extension": ".py",
   "mimetype": "text/x-python",
   "name": "python",
   "nbconvert_exporter": "python",
   "pygments_lexer": "ipython3",
   "version": "3.8.3"
  }
 },
 "nbformat": 4,
 "nbformat_minor": 4
}
